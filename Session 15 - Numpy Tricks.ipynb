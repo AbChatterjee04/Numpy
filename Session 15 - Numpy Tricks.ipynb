{
 "cells": [
  {
   "cell_type": "markdown",
   "id": "621c18a5",
   "metadata": {},
   "source": [
    "# np.sort\n",
    "\n",
    "Return a sorted copy of an array.\n",
    "\n",
    "https://numpy.org/doc/stable/reference/generated/numpy.sort.html"
   ]
  },
  {
   "cell_type": "code",
   "execution_count": 13,
   "id": "948244d1",
   "metadata": {},
   "outputs": [
    {
     "data": {
      "text/plain": [
       "array([22, 77, 33, 69,  5,  3, 75, 17, 14, 65, 44, 43, 40, 57, 52])"
      ]
     },
     "execution_count": 13,
     "metadata": {},
     "output_type": "execute_result"
    }
   ],
   "source": [
    "# code\n",
    "\n",
    "import numpy as np\n",
    "a = np.random.randint(1,100,15)\n",
    "a"
   ]
  },
  {
   "cell_type": "code",
   "execution_count": 4,
   "id": "72619d94",
   "metadata": {},
   "outputs": [
    {
     "data": {
      "text/plain": [
       "array([[19, 64, 16,  3],\n",
       "       [52, 40,  8, 41],\n",
       "       [54, 68, 48, 29],\n",
       "       [40, 53, 48, 29],\n",
       "       [26, 88, 89, 78],\n",
       "       [94, 44, 52, 13]])"
      ]
     },
     "execution_count": 4,
     "metadata": {},
     "output_type": "execute_result"
    }
   ],
   "source": [
    "b = np.random.randint(1,100,24).reshape(6,4)\n",
    "b"
   ]
  },
  {
   "cell_type": "code",
   "execution_count": 14,
   "id": "495e539e",
   "metadata": {},
   "outputs": [
    {
     "data": {
      "text/plain": [
       "array([ 3,  5, 14, 17, 22, 33, 40, 43, 44, 52, 57, 65, 69, 75, 77])"
      ]
     },
     "execution_count": 14,
     "metadata": {},
     "output_type": "execute_result"
    }
   ],
   "source": [
    "# sort function # default Ascending\n",
    "\n",
    "np.sort(a)"
   ]
  },
  {
   "cell_type": "code",
   "execution_count": 17,
   "id": "1eb5faa5",
   "metadata": {},
   "outputs": [
    {
     "data": {
      "text/plain": [
       "array([77, 75, 69, 65, 57, 52, 44, 43, 40, 33, 22, 17, 14,  5,  3])"
      ]
     },
     "execution_count": 17,
     "metadata": {},
     "output_type": "execute_result"
    }
   ],
   "source": [
    "# in order to get in descending order\n",
    "np.sort(a)[::-1]"
   ]
  },
  {
   "cell_type": "code",
   "execution_count": 15,
   "id": "4999d55e",
   "metadata": {},
   "outputs": [
    {
     "data": {
      "text/plain": [
       "array([[ 3, 16, 19, 64],\n",
       "       [ 8, 40, 41, 52],\n",
       "       [29, 48, 54, 68],\n",
       "       [29, 40, 48, 53],\n",
       "       [26, 78, 88, 89],\n",
       "       [13, 44, 52, 94]])"
      ]
     },
     "execution_count": 15,
     "metadata": {},
     "output_type": "execute_result"
    }
   ],
   "source": [
    "np.sort(b) # row wise sorting"
   ]
  },
  {
   "cell_type": "code",
   "execution_count": 16,
   "id": "2566620d",
   "metadata": {},
   "outputs": [
    {
     "data": {
      "text/plain": [
       "array([[19, 40,  8,  3],\n",
       "       [26, 44, 16, 13],\n",
       "       [40, 53, 48, 29],\n",
       "       [52, 64, 48, 29],\n",
       "       [54, 68, 52, 41],\n",
       "       [94, 88, 89, 78]])"
      ]
     },
     "execution_count": 16,
     "metadata": {},
     "output_type": "execute_result"
    }
   ],
   "source": [
    "np.sort(b, axis = 0) # column wise sorting"
   ]
  },
  {
   "cell_type": "code",
   "execution_count": 18,
   "id": "671b56f9",
   "metadata": {},
   "outputs": [
    {
     "data": {
      "text/plain": [
       "array([[94, 88, 89, 78],\n",
       "       [54, 68, 52, 41],\n",
       "       [52, 64, 48, 29],\n",
       "       [40, 53, 48, 29],\n",
       "       [26, 44, 16, 13],\n",
       "       [19, 40,  8,  3]])"
      ]
     },
     "execution_count": 18,
     "metadata": {},
     "output_type": "execute_result"
    }
   ],
   "source": [
    "np.sort(b, axis = 0)[::-1] # column wise sorting Descending"
   ]
  },
  {
   "cell_type": "markdown",
   "id": "a5216921",
   "metadata": {},
   "source": [
    "# np.append\n",
    "\n",
    "The numpy.append() appends values along the mentioned axis at the end of the array\n",
    "\n",
    "https://numpy.org/doc/stable/reference/generated/numpy.append.html\n"
   ]
  },
  {
   "cell_type": "code",
   "execution_count": 19,
   "id": "5e517bd6",
   "metadata": {},
   "outputs": [
    {
     "data": {
      "text/plain": [
       "array([22, 77, 33, 69,  5,  3, 75, 17, 14, 65, 44, 43, 40, 57, 52])"
      ]
     },
     "execution_count": 19,
     "metadata": {},
     "output_type": "execute_result"
    }
   ],
   "source": [
    "# code\n",
    "a"
   ]
  },
  {
   "cell_type": "code",
   "execution_count": 20,
   "id": "b0414ec9",
   "metadata": {},
   "outputs": [
    {
     "data": {
      "text/plain": [
       "array([ 22,  77,  33,  69,   5,   3,  75,  17,  14,  65,  44,  43,  40,\n",
       "        57,  52, 200])"
      ]
     },
     "execution_count": 20,
     "metadata": {},
     "output_type": "execute_result"
    }
   ],
   "source": [
    "# suppose we want to append 200 at array a\n",
    "np.append(a,200)"
   ]
  },
  {
   "cell_type": "code",
   "execution_count": 21,
   "id": "52a628b6",
   "metadata": {},
   "outputs": [
    {
     "data": {
      "text/plain": [
       "array([[19, 64, 16,  3],\n",
       "       [52, 40,  8, 41],\n",
       "       [54, 68, 48, 29],\n",
       "       [40, 53, 48, 29],\n",
       "       [26, 88, 89, 78],\n",
       "       [94, 44, 52, 13]])"
      ]
     },
     "execution_count": 21,
     "metadata": {},
     "output_type": "execute_result"
    }
   ],
   "source": [
    "b"
   ]
  },
  {
   "cell_type": "code",
   "execution_count": 54,
   "id": "608a6aa6",
   "metadata": {},
   "outputs": [
    {
     "data": {
      "text/plain": [
       "array([[19., 64., 16.,  3.,  1.],\n",
       "       [52., 40.,  8., 41.,  1.],\n",
       "       [54., 68., 48., 29.,  1.],\n",
       "       [40., 53., 48., 29.,  1.],\n",
       "       [26., 88., 89., 78.,  1.],\n",
       "       [94., 44., 52., 13.,  1.]])"
      ]
     },
     "execution_count": 54,
     "metadata": {},
     "output_type": "execute_result"
    }
   ],
   "source": [
    "# suppose we want add one more column at the end wit 111111\n",
    "np.append(b,np.ones((b.shape[0],1)), axis = 1)"
   ]
  },
  {
   "cell_type": "code",
   "execution_count": 24,
   "id": "06264e56",
   "metadata": {},
   "outputs": [
    {
     "data": {
      "text/plain": [
       "array([[19.        , 64.        , 16.        ,  3.        ,  0.27185271],\n",
       "       [52.        , 40.        ,  8.        , 41.        ,  0.54319138],\n",
       "       [54.        , 68.        , 48.        , 29.        ,  0.92409412],\n",
       "       [40.        , 53.        , 48.        , 29.        ,  0.18468108],\n",
       "       [26.        , 88.        , 89.        , 78.        ,  0.69498033],\n",
       "       [94.        , 44.        , 52.        , 13.        ,  0.20613404]])"
      ]
     },
     "execution_count": 24,
     "metadata": {},
     "output_type": "execute_result"
    }
   ],
   "source": [
    "# can also put random item\n",
    "np.append(b,np.random.random((b.shape[0],1)), axis = 1)"
   ]
  },
  {
   "cell_type": "markdown",
   "id": "6c0beb17",
   "metadata": {},
   "source": [
    "# np.concatenate\n",
    "\n",
    "numpy.concatenate() function concatenate a sequence of arrays along an existing axis.\n",
    "\n",
    "https://numpy.org/doc/stable/reference/generated/numpy.concatenate.html"
   ]
  },
  {
   "cell_type": "code",
   "execution_count": 25,
   "id": "ed09df28",
   "metadata": {},
   "outputs": [
    {
     "name": "stdout",
     "output_type": "stream",
     "text": [
      "[[0 1 2]\n",
      " [3 4 5]]\n",
      "[[ 6  7  8]\n",
      " [ 9 10 11]]\n"
     ]
    }
   ],
   "source": [
    "# code\n",
    "c = np.arange(6).reshape(2,3)\n",
    "d = np.arange(6,12).reshape(2,3)\n",
    "\n",
    "print(c)\n",
    "print(d)"
   ]
  },
  {
   "cell_type": "code",
   "execution_count": 27,
   "id": "26441092",
   "metadata": {},
   "outputs": [
    {
     "data": {
      "text/plain": [
       "array([[ 0,  1,  2],\n",
       "       [ 3,  4,  5],\n",
       "       [ 6,  7,  8],\n",
       "       [ 9, 10, 11]])"
      ]
     },
     "execution_count": 27,
     "metadata": {},
     "output_type": "execute_result"
    }
   ],
   "source": [
    "np.concatenate((c,d), axis = 0)  # col wise conctenation"
   ]
  },
  {
   "cell_type": "code",
   "execution_count": 28,
   "id": "169322c9",
   "metadata": {},
   "outputs": [
    {
     "data": {
      "text/plain": [
       "array([[ 0,  1,  2,  6,  7,  8],\n",
       "       [ 3,  4,  5,  9, 10, 11]])"
      ]
     },
     "execution_count": 28,
     "metadata": {},
     "output_type": "execute_result"
    }
   ],
   "source": [
    "np.concatenate((c,d), axis = 1) # row wise conctenation"
   ]
  },
  {
   "cell_type": "markdown",
   "id": "ac370a5a",
   "metadata": {},
   "source": [
    "# np.unique\n",
    "\n",
    "With the help of np.unique() method, we can get the unique values from an array given as parameter in np.unique() method.\n",
    "\n",
    "https://numpy.org/doc/stable/reference/generated/numpy.unique.html/"
   ]
  },
  {
   "cell_type": "code",
   "execution_count": 29,
   "id": "b919744d",
   "metadata": {},
   "outputs": [
    {
     "data": {
      "text/plain": [
       "array([1, 1, 2, 2, 3, 3, 4, 4, 5, 5, 6, 6])"
      ]
     },
     "execution_count": 29,
     "metadata": {},
     "output_type": "execute_result"
    }
   ],
   "source": [
    "# code\n",
    "e = np.array([1,1,2,2,3,3,4,4,5,5,6,6])\n",
    "e"
   ]
  },
  {
   "cell_type": "code",
   "execution_count": 30,
   "id": "c54b7971",
   "metadata": {},
   "outputs": [
    {
     "data": {
      "text/plain": [
       "array([1, 2, 3, 4, 5, 6])"
      ]
     },
     "execution_count": 30,
     "metadata": {},
     "output_type": "execute_result"
    }
   ],
   "source": [
    "np.unique(e)"
   ]
  },
  {
   "cell_type": "markdown",
   "id": "124331e9",
   "metadata": {},
   "source": [
    "# np.expand_dims\n",
    "\n",
    "With the help of Numpy.expand_dims() method, we can get the expanded dimensions of an array\n",
    "\n",
    "https://numpy.org/doc/stable/reference/generated/numpy.expand_dims.html"
   ]
  },
  {
   "cell_type": "code",
   "execution_count": 31,
   "id": "8aacfec7",
   "metadata": {},
   "outputs": [
    {
     "data": {
      "text/plain": [
       "(15,)"
      ]
     },
     "execution_count": 31,
     "metadata": {},
     "output_type": "execute_result"
    }
   ],
   "source": [
    "# code\n",
    "a.shape  "
   ]
  },
  {
   "cell_type": "code",
   "execution_count": 40,
   "id": "0efd4215",
   "metadata": {},
   "outputs": [
    {
     "data": {
      "text/plain": [
       "array([[22, 77, 33, 69,  5,  3, 75, 17, 14, 65, 44, 43, 40, 57, 52]])"
      ]
     },
     "execution_count": 40,
     "metadata": {},
     "output_type": "execute_result"
    }
   ],
   "source": [
    "# our a is 1D converting it to 2D   # row vector\n",
    "np.expand_dims(a, axis = 0) #  row wise"
   ]
  },
  {
   "cell_type": "code",
   "execution_count": 38,
   "id": "7dd47c03",
   "metadata": {},
   "outputs": [
    {
     "data": {
      "text/plain": [
       "(1, 15)"
      ]
     },
     "execution_count": 38,
     "metadata": {},
     "output_type": "execute_result"
    }
   ],
   "source": [
    " # our a is 1D converting it to 2D\n",
    "np.expand_dims(a, axis = 0).shape  #  row wise"
   ]
  },
  {
   "cell_type": "code",
   "execution_count": 41,
   "id": "79c56e4a",
   "metadata": {},
   "outputs": [
    {
     "data": {
      "text/plain": [
       "array([[22],\n",
       "       [77],\n",
       "       [33],\n",
       "       [69],\n",
       "       [ 5],\n",
       "       [ 3],\n",
       "       [75],\n",
       "       [17],\n",
       "       [14],\n",
       "       [65],\n",
       "       [44],\n",
       "       [43],\n",
       "       [40],\n",
       "       [57],\n",
       "       [52]])"
      ]
     },
     "execution_count": 41,
     "metadata": {},
     "output_type": "execute_result"
    }
   ],
   "source": [
    "# our a is 1D converting it to 2D  # column vector\n",
    "np.expand_dims(a, axis = 1) # col wise"
   ]
  },
  {
   "cell_type": "code",
   "execution_count": 39,
   "id": "d4260473",
   "metadata": {},
   "outputs": [
    {
     "data": {
      "text/plain": [
       "(15, 1)"
      ]
     },
     "execution_count": 39,
     "metadata": {},
     "output_type": "execute_result"
    }
   ],
   "source": [
    "np.expand_dims(a, axis = 1).shape  # col wise"
   ]
  },
  {
   "cell_type": "markdown",
   "id": "58c595f1",
   "metadata": {},
   "source": [
    "# np.where\n",
    "\n",
    "The numpy.where() function returns the indices of elements in an input array where the given condition is satisfied.\n",
    "\n",
    "https://numpy.org/doc/stable/reference/generated/numpy.where.html"
   ]
  },
  {
   "cell_type": "code",
   "execution_count": 42,
   "id": "2bb31d49",
   "metadata": {},
   "outputs": [
    {
     "data": {
      "text/plain": [
       "array([22, 77, 33, 69,  5,  3, 75, 17, 14, 65, 44, 43, 40, 57, 52])"
      ]
     },
     "execution_count": 42,
     "metadata": {},
     "output_type": "execute_result"
    }
   ],
   "source": [
    "a "
   ]
  },
  {
   "cell_type": "code",
   "execution_count": 45,
   "id": "db1ed11a",
   "metadata": {},
   "outputs": [
    {
     "data": {
      "text/plain": [
       "(array([ 1,  3,  6,  9, 13, 14], dtype=int64),)"
      ]
     },
     "execution_count": 45,
     "metadata": {},
     "output_type": "execute_result"
    }
   ],
   "source": [
    "# find all indices with value greater than 50\n",
    "np.where(a > 50)"
   ]
  },
  {
   "cell_type": "code",
   "execution_count": 46,
   "id": "23d09e4e",
   "metadata": {},
   "outputs": [
    {
     "data": {
      "text/plain": [
       "array([22,  0, 33,  0,  5,  3,  0, 17, 14,  0, 44, 43, 40,  0,  0])"
      ]
     },
     "execution_count": 46,
     "metadata": {},
     "output_type": "execute_result"
    }
   ],
   "source": [
    "# replace all values > 50 with 0\n",
    "np.where(a > 50, 0, a)"
   ]
  },
  {
   "cell_type": "code",
   "execution_count": 47,
   "id": "6d8c3d1a",
   "metadata": {},
   "outputs": [
    {
     "data": {
      "text/plain": [
       "array([ 0, 77, 33, 69,  5,  3, 75, 17,  0, 65,  0, 43,  0, 57,  0])"
      ]
     },
     "execution_count": 47,
     "metadata": {},
     "output_type": "execute_result"
    }
   ],
   "source": [
    "# if number is even replace it with 0\n",
    "np.where(a % 2 == 0, 0, a)"
   ]
  },
  {
   "cell_type": "markdown",
   "id": "56ba91ad",
   "metadata": {},
   "source": [
    "# np.argmax\n",
    "\n",
    "The numpy.argmax() function returns indices of the max element of the array in a particular axis.\n",
    "\n",
    "https://numpy.org/doc/stable/reference/generated/numpy.argmax.html"
   ]
  },
  {
   "cell_type": "code",
   "execution_count": 48,
   "id": "497bb170",
   "metadata": {},
   "outputs": [
    {
     "data": {
      "text/plain": [
       "array([22, 77, 33, 69,  5,  3, 75, 17, 14, 65, 44, 43, 40, 57, 52])"
      ]
     },
     "execution_count": 48,
     "metadata": {},
     "output_type": "execute_result"
    }
   ],
   "source": [
    "# code\n",
    "a"
   ]
  },
  {
   "cell_type": "code",
   "execution_count": 49,
   "id": "4211d3b5",
   "metadata": {},
   "outputs": [
    {
     "data": {
      "text/plain": [
       "1"
      ]
     },
     "execution_count": 49,
     "metadata": {},
     "output_type": "execute_result"
    }
   ],
   "source": [
    "# suppose inside a we want to get biggest values index position\n",
    "np.argmax(a)"
   ]
  },
  {
   "cell_type": "code",
   "execution_count": 50,
   "id": "3b045da4",
   "metadata": {},
   "outputs": [
    {
     "data": {
      "text/plain": [
       "array([[19, 64, 16,  3],\n",
       "       [52, 40,  8, 41],\n",
       "       [54, 68, 48, 29],\n",
       "       [40, 53, 48, 29],\n",
       "       [26, 88, 89, 78],\n",
       "       [94, 44, 52, 13]])"
      ]
     },
     "execution_count": 50,
     "metadata": {},
     "output_type": "execute_result"
    }
   ],
   "source": [
    "b"
   ]
  },
  {
   "cell_type": "code",
   "execution_count": 51,
   "id": "ad4e5725",
   "metadata": {},
   "outputs": [
    {
     "data": {
      "text/plain": [
       "array([5, 4, 4, 4], dtype=int64)"
      ]
     },
     "execution_count": 51,
     "metadata": {},
     "output_type": "execute_result"
    }
   ],
   "source": [
    "# col wise max\n",
    "np.argmax(b, axis = 0)"
   ]
  },
  {
   "cell_type": "code",
   "execution_count": 52,
   "id": "ea673dea",
   "metadata": {},
   "outputs": [
    {
     "data": {
      "text/plain": [
       "array([1, 0, 1, 1, 2, 0], dtype=int64)"
      ]
     },
     "execution_count": 52,
     "metadata": {},
     "output_type": "execute_result"
    }
   ],
   "source": [
    "# row wise max\n",
    "np.argmax(b, axis = 1)"
   ]
  },
  {
   "cell_type": "code",
   "execution_count": 55,
   "id": "e9b3f806",
   "metadata": {},
   "outputs": [
    {
     "data": {
      "text/plain": [
       "array([22, 77, 33, 69,  5,  3, 75, 17, 14, 65, 44, 43, 40, 57, 52])"
      ]
     },
     "execution_count": 55,
     "metadata": {},
     "output_type": "execute_result"
    }
   ],
   "source": [
    "# np.argmin\n",
    "a"
   ]
  },
  {
   "cell_type": "code",
   "execution_count": 56,
   "id": "a028e16a",
   "metadata": {},
   "outputs": [
    {
     "data": {
      "text/plain": [
       "5"
      ]
     },
     "execution_count": 56,
     "metadata": {},
     "output_type": "execute_result"
    }
   ],
   "source": [
    "# in order to get mimium item index\n",
    "np.argmin(a)"
   ]
  },
  {
   "cell_type": "markdown",
   "id": "a76da740",
   "metadata": {},
   "source": [
    "# np.cumsum\n",
    "\n",
    "numpy.cumsum() function is used when we want to compute the cumulative sum of array elements over a given axis.\n",
    "\n",
    "https://numpy.org/doc/stable/reference/generated/numpy.cumsum.html"
   ]
  },
  {
   "cell_type": "code",
   "execution_count": 57,
   "id": "519949c7",
   "metadata": {},
   "outputs": [
    {
     "data": {
      "text/plain": [
       "array([22, 77, 33, 69,  5,  3, 75, 17, 14, 65, 44, 43, 40, 57, 52])"
      ]
     },
     "execution_count": 57,
     "metadata": {},
     "output_type": "execute_result"
    }
   ],
   "source": [
    "  a"
   ]
  },
  {
   "cell_type": "code",
   "execution_count": 58,
   "id": "36a0770a",
   "metadata": {},
   "outputs": [
    {
     "data": {
      "text/plain": [
       "array([ 22,  99, 132, 201, 206, 209, 284, 301, 315, 380, 424, 467, 507,\n",
       "       564, 616])"
      ]
     },
     "execution_count": 58,
     "metadata": {},
     "output_type": "execute_result"
    }
   ],
   "source": [
    "# cumulative sum\n",
    "np.cumsum(a)"
   ]
  },
  {
   "cell_type": "code",
   "execution_count": 59,
   "id": "68a57d7f",
   "metadata": {},
   "outputs": [
    {
     "data": {
      "text/plain": [
       "array([[19, 64, 16,  3],\n",
       "       [52, 40,  8, 41],\n",
       "       [54, 68, 48, 29],\n",
       "       [40, 53, 48, 29],\n",
       "       [26, 88, 89, 78],\n",
       "       [94, 44, 52, 13]])"
      ]
     },
     "execution_count": 59,
     "metadata": {},
     "output_type": "execute_result"
    }
   ],
   "source": [
    "b"
   ]
  },
  {
   "cell_type": "code",
   "execution_count": 61,
   "id": "51cf2bb0",
   "metadata": {},
   "outputs": [
    {
     "data": {
      "text/plain": [
       "array([  19,   83,   99,  102,  154,  194,  202,  243,  297,  365,  413,\n",
       "        442,  482,  535,  583,  612,  638,  726,  815,  893,  987, 1031,\n",
       "       1083, 1096])"
      ]
     },
     "execution_count": 61,
     "metadata": {},
     "output_type": "execute_result"
    }
   ],
   "source": [
    "np.cumsum(b)  # since no axis given it's converted to 1D"
   ]
  },
  {
   "cell_type": "code",
   "execution_count": 62,
   "id": "d073a4b2",
   "metadata": {},
   "outputs": [
    {
     "data": {
      "text/plain": [
       "array([[ 19,  64,  16,   3],\n",
       "       [ 71, 104,  24,  44],\n",
       "       [125, 172,  72,  73],\n",
       "       [165, 225, 120, 102],\n",
       "       [191, 313, 209, 180],\n",
       "       [285, 357, 261, 193]])"
      ]
     },
     "execution_count": 62,
     "metadata": {},
     "output_type": "execute_result"
    }
   ],
   "source": [
    "np.cumsum(b, axis = 0) # col wise"
   ]
  },
  {
   "cell_type": "code",
   "execution_count": 63,
   "id": "a3421912",
   "metadata": {},
   "outputs": [
    {
     "data": {
      "text/plain": [
       "array([[ 19,  83,  99, 102],\n",
       "       [ 52,  92, 100, 141],\n",
       "       [ 54, 122, 170, 199],\n",
       "       [ 40,  93, 141, 170],\n",
       "       [ 26, 114, 203, 281],\n",
       "       [ 94, 138, 190, 203]])"
      ]
     },
     "execution_count": 63,
     "metadata": {},
     "output_type": "execute_result"
    }
   ],
   "source": [
    "np.cumsum(b, axis = 1) # row wise"
   ]
  },
  {
   "cell_type": "code",
   "execution_count": 65,
   "id": "f1c2b40f",
   "metadata": {},
   "outputs": [
    {
     "data": {
      "text/plain": [
       "array([22, 77, 33, 69,  5,  3, 75, 17, 14, 65, 44, 43, 40, 57, 52])"
      ]
     },
     "execution_count": 65,
     "metadata": {},
     "output_type": "execute_result"
    }
   ],
   "source": [
    "# np.cumprod\n",
    "a"
   ]
  },
  {
   "cell_type": "code",
   "execution_count": 66,
   "id": "78d2b28f",
   "metadata": {},
   "outputs": [
    {
     "data": {
      "text/plain": [
       "array([         22,        1694,       55902,     3857238,    19286190,\n",
       "          57858570,    44425454,   755232718,  1983323460,    67006020,\n",
       "       -1346702416, -2073629040, -1340782976,   884781696, -1235992064])"
      ]
     },
     "execution_count": 66,
     "metadata": {},
     "output_type": "execute_result"
    }
   ],
   "source": [
    "np.cumprod(a)  # product"
   ]
  },
  {
   "cell_type": "markdown",
   "id": "69df1a6e",
   "metadata": {},
   "source": [
    "# np.percentile\n",
    "\n",
    "numpy.percentile()function used to compute the nth percentile of the given data (array elements) along the specified axis. \n",
    "\n",
    "https://numpy.org/doc/stable/reference/generated/numpy.percentile.html"
   ]
  },
  {
   "cell_type": "code",
   "execution_count": 67,
   "id": "ec023ce8",
   "metadata": {},
   "outputs": [
    {
     "data": {
      "text/plain": [
       "array([22, 77, 33, 69,  5,  3, 75, 17, 14, 65, 44, 43, 40, 57, 52])"
      ]
     },
     "execution_count": 67,
     "metadata": {},
     "output_type": "execute_result"
    }
   ],
   "source": [
    "a"
   ]
  },
  {
   "cell_type": "code",
   "execution_count": 68,
   "id": "4ebac09d",
   "metadata": {},
   "outputs": [
    {
     "data": {
      "text/plain": [
       "77.0"
      ]
     },
     "execution_count": 68,
     "metadata": {},
     "output_type": "execute_result"
    }
   ],
   "source": [
    "np.percentile(a,100) # 77 since in a no one is above 77 MAX"
   ]
  },
  {
   "cell_type": "code",
   "execution_count": 69,
   "id": "6b43ad20",
   "metadata": {},
   "outputs": [
    {
     "data": {
      "text/plain": [
       "3.0"
      ]
     },
     "execution_count": 69,
     "metadata": {},
     "output_type": "execute_result"
    }
   ],
   "source": [
    "np.percentile(a,0)  # 3 since minimum value in a "
   ]
  },
  {
   "cell_type": "code",
   "execution_count": 70,
   "id": "0c96d0bc",
   "metadata": {},
   "outputs": [
    {
     "data": {
      "text/plain": [
       "43.0"
      ]
     },
     "execution_count": 70,
     "metadata": {},
     "output_type": "execute_result"
    }
   ],
   "source": [
    "np.percentile(a,50) # median 50-50"
   ]
  },
  {
   "cell_type": "code",
   "execution_count": 72,
   "id": "2cad69ac",
   "metadata": {},
   "outputs": [
    {
     "data": {
      "text/plain": [
       "43.0"
      ]
     },
     "execution_count": 72,
     "metadata": {},
     "output_type": "execute_result"
    }
   ],
   "source": [
    "np.median(a) # median :)"
   ]
  },
  {
   "cell_type": "markdown",
   "id": "fad3aefd",
   "metadata": {},
   "source": [
    "# np.histogram\n",
    "\n",
    "Numpy has a built-in numpy.histogram() function which represents the frequency of data distribution in the graphical form.\n",
    "\n",
    "https://numpy.org/doc/stable/reference/generated/numpy.histogram.html"
   ]
  },
  {
   "cell_type": "code",
   "execution_count": 73,
   "id": "507d8b1d",
   "metadata": {},
   "outputs": [
    {
     "data": {
      "text/plain": [
       "array([22, 77, 33, 69,  5,  3, 75, 17, 14, 65, 44, 43, 40, 57, 52])"
      ]
     },
     "execution_count": 73,
     "metadata": {},
     "output_type": "execute_result"
    }
   ],
   "source": [
    "# code\n",
    "a"
   ]
  },
  {
   "cell_type": "code",
   "execution_count": 75,
   "id": "197680b6",
   "metadata": {},
   "outputs": [
    {
     "data": {
      "text/plain": [
       "(array([2, 2, 1, 1, 3, 2, 2, 2, 0, 0], dtype=int64),\n",
       " array([  0,  10,  20,  30,  40,  50,  60,  70,  80,  90, 100]))"
      ]
     },
     "execution_count": 75,
     "metadata": {},
     "output_type": "execute_result"
    }
   ],
   "source": [
    "np.histogram(a, bins = [0,10,20,30,40,50,60,70,80,90,100])"
   ]
  },
  {
   "cell_type": "code",
   "execution_count": 76,
   "id": "d670f4cd",
   "metadata": {},
   "outputs": [
    {
     "data": {
      "text/plain": [
       "(array([9, 6], dtype=int64), array([  0,  50, 100]))"
      ]
     },
     "execution_count": 76,
     "metadata": {},
     "output_type": "execute_result"
    }
   ],
   "source": [
    "# making small bins size\n",
    "np.histogram(a, bins = [0,50,100])"
   ]
  },
  {
   "cell_type": "markdown",
   "id": "1a3fac27",
   "metadata": {},
   "source": [
    "# np.corrcoef\n",
    "\n",
    "Return Pearson product-moment correlation coefficients.\n",
    "\n",
    "https://numpy.org/doc/stable/reference/generated/numpy.corrcoef.html"
   ]
  },
  {
   "cell_type": "code",
   "execution_count": 77,
   "id": "4edb0ba3",
   "metadata": {},
   "outputs": [
    {
     "data": {
      "text/plain": [
       "array([[1.        , 0.25344572],\n",
       "       [0.25344572, 1.        ]])"
      ]
     },
     "execution_count": 77,
     "metadata": {},
     "output_type": "execute_result"
    }
   ],
   "source": [
    "salary = np.array([20000,40000,25000,35000,60000])\n",
    "experience = np.array([1,3,2,4,2])\n",
    "\n",
    "np.corrcoef(salary,experience)"
   ]
  },
  {
   "cell_type": "markdown",
   "id": "27a87a31",
   "metadata": {},
   "source": [
    "# np.isin\n",
    "\n",
    "With the help of numpy.isin() method, we can see that one array having values are checked in a different numpy array having different elements with different sizes.\n",
    "\n",
    "https://numpy.org/doc/stable/reference/generated/numpy.isin.html"
   ]
  },
  {
   "cell_type": "code",
   "execution_count": 78,
   "id": "a8dc4d97",
   "metadata": {},
   "outputs": [
    {
     "data": {
      "text/plain": [
       "array([22, 77, 33, 69,  5,  3, 75, 17, 14, 65, 44, 43, 40, 57, 52])"
      ]
     },
     "execution_count": 78,
     "metadata": {},
     "output_type": "execute_result"
    }
   ],
   "source": [
    "# code\n",
    "a"
   ]
  },
  {
   "cell_type": "code",
   "execution_count": 80,
   "id": "7f4e8f3e",
   "metadata": {},
   "outputs": [
    {
     "data": {
      "text/plain": [
       "array([40])"
      ]
     },
     "execution_count": 80,
     "metadata": {},
     "output_type": "execute_result"
    }
   ],
   "source": [
    "items = [10,20,30,40,50,60,70,80,90,100]\n",
    "a[np.isin(a,items)]"
   ]
  },
  {
   "cell_type": "markdown",
   "id": "84cea61d",
   "metadata": {},
   "source": [
    "# np.flip\n",
    "\n",
    "The numpy.flip() function reverses the order of array elements along the specified axis, preserving the shape of the array.\n",
    "\n",
    "https://numpy.org/doc/stable/reference/generated/numpy.flip.html"
   ]
  },
  {
   "cell_type": "code",
   "execution_count": 81,
   "id": "a4b03620",
   "metadata": {},
   "outputs": [
    {
     "data": {
      "text/plain": [
       "array([22, 77, 33, 69,  5,  3, 75, 17, 14, 65, 44, 43, 40, 57, 52])"
      ]
     },
     "execution_count": 81,
     "metadata": {},
     "output_type": "execute_result"
    }
   ],
   "source": [
    "# code\n",
    "a"
   ]
  },
  {
   "cell_type": "code",
   "execution_count": 82,
   "id": "5222483b",
   "metadata": {},
   "outputs": [
    {
     "data": {
      "text/plain": [
       "array([52, 57, 40, 43, 44, 65, 14, 17, 75,  3,  5, 69, 33, 77, 22])"
      ]
     },
     "execution_count": 82,
     "metadata": {},
     "output_type": "execute_result"
    }
   ],
   "source": [
    "np.flip(a) # mirror image first become last"
   ]
  },
  {
   "cell_type": "code",
   "execution_count": 83,
   "id": "acf8255c",
   "metadata": {},
   "outputs": [
    {
     "data": {
      "text/plain": [
       "array([[19, 64, 16,  3],\n",
       "       [52, 40,  8, 41],\n",
       "       [54, 68, 48, 29],\n",
       "       [40, 53, 48, 29],\n",
       "       [26, 88, 89, 78],\n",
       "       [94, 44, 52, 13]])"
      ]
     },
     "execution_count": 83,
     "metadata": {},
     "output_type": "execute_result"
    }
   ],
   "source": [
    "b"
   ]
  },
  {
   "cell_type": "code",
   "execution_count": 84,
   "id": "3116d664",
   "metadata": {},
   "outputs": [
    {
     "data": {
      "text/plain": [
       "array([[13, 52, 44, 94],\n",
       "       [78, 89, 88, 26],\n",
       "       [29, 48, 53, 40],\n",
       "       [29, 48, 68, 54],\n",
       "       [41,  8, 40, 52],\n",
       "       [ 3, 16, 64, 19]])"
      ]
     },
     "execution_count": 84,
     "metadata": {},
     "output_type": "execute_result"
    }
   ],
   "source": [
    "np.flip(b) # row and col wise flip"
   ]
  },
  {
   "cell_type": "code",
   "execution_count": 85,
   "id": "05290103",
   "metadata": {},
   "outputs": [
    {
     "data": {
      "text/plain": [
       "array([[94, 44, 52, 13],\n",
       "       [26, 88, 89, 78],\n",
       "       [40, 53, 48, 29],\n",
       "       [54, 68, 48, 29],\n",
       "       [52, 40,  8, 41],\n",
       "       [19, 64, 16,  3]])"
      ]
     },
     "execution_count": 85,
     "metadata": {},
     "output_type": "execute_result"
    }
   ],
   "source": [
    "np.flip(b, axis = 0) # col wise flip"
   ]
  },
  {
   "cell_type": "code",
   "execution_count": 86,
   "id": "78494cf7",
   "metadata": {},
   "outputs": [
    {
     "data": {
      "text/plain": [
       "array([[ 3, 16, 64, 19],\n",
       "       [41,  8, 40, 52],\n",
       "       [29, 48, 68, 54],\n",
       "       [29, 48, 53, 40],\n",
       "       [78, 89, 88, 26],\n",
       "       [13, 52, 44, 94]])"
      ]
     },
     "execution_count": 86,
     "metadata": {},
     "output_type": "execute_result"
    }
   ],
   "source": [
    "np.flip(b, axis = 1) # row wise flip"
   ]
  },
  {
   "cell_type": "markdown",
   "id": "bb8ec2e7",
   "metadata": {},
   "source": [
    "# np.put\n",
    "\n",
    "The numpy.put() function replaces specific elements of an array with given values of p_array. Array indexed works on flattened array. \n",
    "\n",
    "https://numpy.org/doc/stable/reference/generated/numpy.put.html"
   ]
  },
  {
   "cell_type": "code",
   "execution_count": 87,
   "id": "a0c5fb78",
   "metadata": {},
   "outputs": [
    {
     "data": {
      "text/plain": [
       "array([22, 77, 33, 69,  5,  3, 75, 17, 14, 65, 44, 43, 40, 57, 52])"
      ]
     },
     "execution_count": 87,
     "metadata": {},
     "output_type": "execute_result"
    }
   ],
   "source": [
    "#  code\n",
    "a"
   ]
  },
  {
   "cell_type": "code",
   "execution_count": 88,
   "id": "997a2437",
   "metadata": {},
   "outputs": [],
   "source": [
    "# suppose we want to chang 1st and 2nd item from a\n",
    "np.put(a,[0,1],[110,530])    # it's do permanent changes so we won't see any output"
   ]
  },
  {
   "cell_type": "code",
   "execution_count": 89,
   "id": "862f40cb",
   "metadata": {},
   "outputs": [
    {
     "data": {
      "text/plain": [
       "array([110, 530,  33,  69,   5,   3,  75,  17,  14,  65,  44,  43,  40,\n",
       "        57,  52])"
      ]
     },
     "execution_count": 89,
     "metadata": {},
     "output_type": "execute_result"
    }
   ],
   "source": [
    "# in order to see changes\n",
    "a"
   ]
  },
  {
   "cell_type": "markdown",
   "id": "7c669c44",
   "metadata": {},
   "source": [
    "# np.delete\n",
    "\n",
    "The numpy.delete() function returns a new array with the deletion of sub-arrays along with the mentioned axis. \n",
    "\n",
    "https://numpy.org/doc/stable/reference/generated/numpy.delete.html"
   ]
  },
  {
   "cell_type": "code",
   "execution_count": 90,
   "id": "739896ea",
   "metadata": {},
   "outputs": [
    {
     "data": {
      "text/plain": [
       "array([110, 530,  33,  69,   5,   3,  75,  17,  14,  65,  44,  43,  40,\n",
       "        57,  52])"
      ]
     },
     "execution_count": 90,
     "metadata": {},
     "output_type": "execute_result"
    }
   ],
   "source": [
    "# code\n",
    "a"
   ]
  },
  {
   "cell_type": "code",
   "execution_count": 92,
   "id": "fbd8a214",
   "metadata": {},
   "outputs": [
    {
     "data": {
      "text/plain": [
       "array([530,  33,  69,   5,   3,  75,  17,  14,  65,  44,  43,  40,  57,\n",
       "        52])"
      ]
     },
     "execution_count": 92,
     "metadata": {},
     "output_type": "execute_result"
    }
   ],
   "source": [
    "# suppose we want to delete 110 from a\n",
    "np.delete(a,0) # all we need to provide index"
   ]
  },
  {
   "cell_type": "code",
   "execution_count": 93,
   "id": "3a90ffff",
   "metadata": {},
   "outputs": [
    {
     "data": {
      "text/plain": [
       "array([530,  69,   3,  75,  17,  14,  65,  44,  43,  40,  57,  52])"
      ]
     },
     "execution_count": 93,
     "metadata": {},
     "output_type": "execute_result"
    }
   ],
   "source": [
    "# Deleteing multiple items\n",
    "np.delete(a,[0,2,4])"
   ]
  },
  {
   "cell_type": "markdown",
   "id": "948c4b45",
   "metadata": {},
   "source": [
    "# Set functions\n",
    "\n",
    "- np.union1d\n",
    "- np.intersect1d\n",
    "- np.setdiff1d\n",
    "- np.setxor1d\n",
    "- np.in1d"
   ]
  },
  {
   "cell_type": "code",
   "execution_count": 95,
   "id": "ac69285b",
   "metadata": {},
   "outputs": [],
   "source": [
    "m = np.array([1,2,3,4,5])\n",
    "n = np.array([3,4,5,6,7])"
   ]
  },
  {
   "cell_type": "code",
   "execution_count": 96,
   "id": "a0473895",
   "metadata": {},
   "outputs": [
    {
     "data": {
      "text/plain": [
       "array([1, 2, 3, 4, 5, 6, 7])"
      ]
     },
     "execution_count": 96,
     "metadata": {},
     "output_type": "execute_result"
    }
   ],
   "source": [
    "# to get union\n",
    "np.union1d(m,n) # only unique values are allowed"
   ]
  },
  {
   "cell_type": "code",
   "execution_count": 97,
   "id": "5e360f13",
   "metadata": {},
   "outputs": [
    {
     "data": {
      "text/plain": [
       "array([3, 4, 5])"
      ]
     },
     "execution_count": 97,
     "metadata": {},
     "output_type": "execute_result"
    }
   ],
   "source": [
    "# intersect\n",
    "np.intersect1d(m,n) # only common vallues are alowed "
   ]
  },
  {
   "cell_type": "code",
   "execution_count": 98,
   "id": "90e32656",
   "metadata": {},
   "outputs": [
    {
     "data": {
      "text/plain": [
       "array([1, 2])"
      ]
     },
     "execution_count": 98,
     "metadata": {},
     "output_type": "execute_result"
    }
   ],
   "source": [
    "# shows item are in m bt not in n\n",
    "np.setdiff1d(m,n)"
   ]
  },
  {
   "cell_type": "code",
   "execution_count": 99,
   "id": "5cdeef9f",
   "metadata": {},
   "outputs": [
    {
     "data": {
      "text/plain": [
       "array([6, 7])"
      ]
     },
     "execution_count": 99,
     "metadata": {},
     "output_type": "execute_result"
    }
   ],
   "source": [
    "# setdiff1d -> shows item are in n bt not in m\n",
    "np.setdiff1d(n,m)"
   ]
  },
  {
   "cell_type": "code",
   "execution_count": 100,
   "id": "80714c84",
   "metadata": {},
   "outputs": [
    {
     "data": {
      "text/plain": [
       "array([1, 2, 6, 7])"
      ]
     },
     "execution_count": 100,
     "metadata": {},
     "output_type": "execute_result"
    }
   ],
   "source": [
    "# xor -> it will show only uncommon of both m and n\n",
    "np.setxor1d(m,n)"
   ]
  },
  {
   "cell_type": "code",
   "execution_count": 102,
   "id": "b0ef912c",
   "metadata": {},
   "outputs": [
    {
     "data": {
      "text/plain": [
       "array([ True, False, False, False, False])"
      ]
     },
     "execution_count": 102,
     "metadata": {},
     "output_type": "execute_result"
    }
   ],
   "source": [
    "# in1d -> shows in a given set item are present or not like membership operator\n",
    "np.in1d(m,1)"
   ]
  },
  {
   "cell_type": "code",
   "execution_count": 104,
   "id": "3042587d",
   "metadata": {},
   "outputs": [
    {
     "data": {
      "text/plain": [
       "array([1])"
      ]
     },
     "execution_count": 104,
     "metadata": {},
     "output_type": "execute_result"
    }
   ],
   "source": [
    "m[np.in1d(m,1)]"
   ]
  },
  {
   "cell_type": "code",
   "execution_count": 103,
   "id": "3b718c67",
   "metadata": {},
   "outputs": [
    {
     "data": {
      "text/plain": [
       "array([False, False, False, False, False])"
      ]
     },
     "execution_count": 103,
     "metadata": {},
     "output_type": "execute_result"
    }
   ],
   "source": [
    "# in1d -> shows in a given set item are present or not like membership operator\n",
    "np.in1d(m,10)"
   ]
  },
  {
   "cell_type": "markdown",
   "id": "beee365b",
   "metadata": {},
   "source": [
    "# np.clip\n",
    "\n",
    "numpy.clip() function is used to Clip (limit) the values in an array.\n",
    "\n",
    "https://numpy.org/doc/stable/reference/generated/numpy.clip.html"
   ]
  },
  {
   "cell_type": "code",
   "execution_count": 105,
   "id": "eb3fc0b2",
   "metadata": {},
   "outputs": [
    {
     "data": {
      "text/plain": [
       "array([110, 530,  33,  69,   5,   3,  75,  17,  14,  65,  44,  43,  40,\n",
       "        57,  52])"
      ]
     },
     "execution_count": 105,
     "metadata": {},
     "output_type": "execute_result"
    }
   ],
   "source": [
    "# code\n",
    "a"
   ]
  },
  {
   "cell_type": "code",
   "execution_count": 106,
   "id": "79f1dced",
   "metadata": {},
   "outputs": [
    {
     "data": {
      "text/plain": [
       "array([75, 75, 33, 69, 25, 25, 75, 25, 25, 65, 44, 43, 40, 57, 52])"
      ]
     },
     "execution_count": 106,
     "metadata": {},
     "output_type": "execute_result"
    }
   ],
   "source": [
    "np.clip(a,a_min=25,a_max=75) # higher and lower values cliped with 75 and 25 repectively rest as it is."
   ]
  },
  {
   "cell_type": "code",
   "execution_count": null,
   "id": "98726cff",
   "metadata": {},
   "outputs": [],
   "source": [
    "# 17. np.swapaxes"
   ]
  },
  {
   "cell_type": "code",
   "execution_count": null,
   "id": "08ad6957",
   "metadata": {},
   "outputs": [],
   "source": [
    "# 18. np.uniform"
   ]
  },
  {
   "cell_type": "code",
   "execution_count": null,
   "id": "7d57fe9d",
   "metadata": {},
   "outputs": [],
   "source": [
    "# 19. np.count_nonzero"
   ]
  },
  {
   "cell_type": "code",
   "execution_count": null,
   "id": "08958e1d",
   "metadata": {},
   "outputs": [],
   "source": [
    "# 21. np.tile\n",
    "# https://www.kaggle.com/code/abhayparashar31/best-numpy-functions-for-data-science-50?scriptVersionId=98816580"
   ]
  },
  {
   "cell_type": "code",
   "execution_count": null,
   "id": "5d906172",
   "metadata": {},
   "outputs": [],
   "source": [
    "# 22. np.repeat\n",
    "# https://towardsdatascience.com/10-numpy-functions-you-should-know-1dc4863764c5"
   ]
  },
  {
   "cell_type": "code",
   "execution_count": null,
   "id": "fbd6020c",
   "metadata": {},
   "outputs": [],
   "source": [
    "\n",
    "# 25. np.allclose and equals"
   ]
  }
 ],
 "metadata": {
  "kernelspec": {
   "display_name": "Python 3 (ipykernel)",
   "language": "python",
   "name": "python3"
  },
  "language_info": {
   "codemirror_mode": {
    "name": "ipython",
    "version": 3
   },
   "file_extension": ".py",
   "mimetype": "text/x-python",
   "name": "python",
   "nbconvert_exporter": "python",
   "pygments_lexer": "ipython3",
   "version": "3.9.16"
  }
 },
 "nbformat": 4,
 "nbformat_minor": 5
}
